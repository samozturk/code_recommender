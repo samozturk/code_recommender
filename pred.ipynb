{
 "cells": [
  {
   "cell_type": "code",
   "execution_count": 1,
   "metadata": {},
   "outputs": [
    {
     "name": "stderr",
     "output_type": "stream",
     "text": [
      "/Users/samet/opt/anaconda3/envs/hf/lib/python3.10/site-packages/tqdm/auto.py:22: TqdmWarning: IProgress not found. Please update jupyter and ipywidgets. See https://ipywidgets.readthedocs.io/en/stable/user_install.html\n",
      "  from .autonotebook import tqdm as notebook_tqdm\n"
     ]
    }
   ],
   "source": [
    "from predictor import predict_word\n",
    "import pandas as pd\n",
    "\n",
    "## PIPELINE\n",
    "from transformers import pipeline, AutoTokenizer\n",
    "import torch\n",
    "import torch.nn.functional as F"
   ]
  },
  {
   "cell_type": "code",
   "execution_count": 2,
   "metadata": {},
   "outputs": [],
   "source": [
    "df = pd.read_csv('masked_df.csv', index_col=False).drop('id', axis=1)"
   ]
  },
  {
   "cell_type": "code",
   "execution_count": 3,
   "metadata": {},
   "outputs": [
    {
     "data": {
      "text/html": [
       "<div>\n",
       "<style scoped>\n",
       "    .dataframe tbody tr th:only-of-type {\n",
       "        vertical-align: middle;\n",
       "    }\n",
       "\n",
       "    .dataframe tbody tr th {\n",
       "        vertical-align: top;\n",
       "    }\n",
       "\n",
       "    .dataframe thead th {\n",
       "        text-align: right;\n",
       "    }\n",
       "</style>\n",
       "<table border=\"1\" class=\"dataframe\">\n",
       "  <thead>\n",
       "    <tr style=\"text-align: right;\">\n",
       "      <th></th>\n",
       "      <th>word</th>\n",
       "      <th>snippet</th>\n",
       "    </tr>\n",
       "  </thead>\n",
       "  <tbody>\n",
       "    <tr>\n",
       "      <th>0</th>\n",
       "      <td>Info</td>\n",
       "      <td>Path:filepath.Join(dir,f.Name()),&lt;mask&gt;:f,})}</td>\n",
       "    </tr>\n",
       "    <tr>\n",
       "      <th>1</th>\n",
       "      <td>From</td>\n",
       "      <td>ifmock==nil{panic(\"mockmustnotbenil.UsemyMock:...</td>\n",
       "    </tr>\n",
       "    <tr>\n",
       "      <th>2</th>\n",
       "      <td>inputs</td>\n",
       "      <td>switchlen(f.inputs){case1:source[\"input\"]=f.in...</td>\n",
       "    </tr>\n",
       "    <tr>\n",
       "      <th>3</th>\n",
       "      <td>[]</td>\n",
       "      <td>returnasRuntimeObjects(parseRules(client.Clust...</td>\n",
       "    </tr>\n",
       "    <tr>\n",
       "      <th>4</th>\n",
       "      <td>for</td>\n",
       "      <td>&lt;mask&gt;_,o:=rangeoo{varpodv1.Poderr=runtime.Def...</td>\n",
       "    </tr>\n",
       "    <tr>\n",
       "      <th>...</th>\n",
       "      <td>...</td>\n",
       "      <td>...</td>\n",
       "    </tr>\n",
       "    <tr>\n",
       "      <th>24584</th>\n",
       "      <td>hydrate</td>\n",
       "      <td>func(s*Sanitizer)hydrate(parent*tview.TreeNode...</td>\n",
       "    </tr>\n",
       "    <tr>\n",
       "      <th>24585</th>\n",
       "      <td>FullScreen</td>\n",
       "      <td>returnnil}func(d*Details)toggle&lt;mask&gt;Cmd(evt*t...</td>\n",
       "    </tr>\n",
       "    <tr>\n",
       "      <th>24586</th>\n",
       "      <td>TableModel</td>\n",
       "      <td>func(t*mock&lt;mask&gt;)Delete(context.Context,strin...</td>\n",
       "    </tr>\n",
       "    <tr>\n",
       "      <th>24587</th>\n",
       "      <td>InputHandler</td>\n",
       "      <td>returnc.Wrap&lt;mask&gt;(func(event*tcell.EventKey,s...</td>\n",
       "    </tr>\n",
       "    <tr>\n",
       "      <th>24588</th>\n",
       "      <td>ye</td>\n",
       "      <td>popeye,err:=pkg.NewPope&lt;mask&gt;(flags,&amp;log.Logge...</td>\n",
       "    </tr>\n",
       "  </tbody>\n",
       "</table>\n",
       "<p>24589 rows × 2 columns</p>\n",
       "</div>"
      ],
      "text/plain": [
       "               word                                            snippet\n",
       "0              Info      Path:filepath.Join(dir,f.Name()),<mask>:f,})}\n",
       "1              From  ifmock==nil{panic(\"mockmustnotbenil.UsemyMock:...\n",
       "2            inputs  switchlen(f.inputs){case1:source[\"input\"]=f.in...\n",
       "3                []  returnasRuntimeObjects(parseRules(client.Clust...\n",
       "4               for  <mask>_,o:=rangeoo{varpodv1.Poderr=runtime.Def...\n",
       "...             ...                                                ...\n",
       "24584       hydrate  func(s*Sanitizer)hydrate(parent*tview.TreeNode...\n",
       "24585    FullScreen  returnnil}func(d*Details)toggle<mask>Cmd(evt*t...\n",
       "24586    TableModel  func(t*mock<mask>)Delete(context.Context,strin...\n",
       "24587  InputHandler  returnc.Wrap<mask>(func(event*tcell.EventKey,s...\n",
       "24588            ye  popeye,err:=pkg.NewPope<mask>(flags,&log.Logge...\n",
       "\n",
       "[24589 rows x 2 columns]"
      ]
     },
     "execution_count": 3,
     "metadata": {},
     "output_type": "execute_result"
    }
   ],
   "source": [
    "df"
   ]
  },
  {
   "cell_type": "code",
   "execution_count": 4,
   "metadata": {},
   "outputs": [],
   "source": [
    "sample = df['snippet'].iloc[:10]"
   ]
  },
  {
   "cell_type": "code",
   "execution_count": 5,
   "metadata": {},
   "outputs": [],
   "source": [
    "\n",
    "def predict_word(sequence:str) -> \"list[str]\" :\n",
    "    '''Predict the masked words. Mask token:<mask>\n",
    "\n",
    "    Args:\n",
    "        sequence (list[str]): Sequence of code snippets include masked tokens\n",
    "        return_sequence (bool): True if you want whole sequence, false if you only want predicted word\n",
    "    Returns:\n",
    "        Returns predicted words \n",
    "    '''\n",
    "    prediction = []\n",
    "    fill_mask = pipeline(\n",
    "    \"fill-mask\",\n",
    "    model=\"huggingface/CodeBERTa-small-v1\",\n",
    "    # tokenizer=\"huggingface/CodeBERTa-small-v1\",\n",
    "    tokenizer = AutoTokenizer.from_pretrained(\"huggingface/CodeBERTa-small-v1\", model_max_len=512, padding=True, truncation='drop_rows_to_fit')\n",
    "\n",
    ")\n",
    "    outputs = fill_mask(sequence)\n",
    "    for output in outputs:\n",
    "        prediction.append(output)\n",
    "\n",
    "    return prediction"
   ]
  },
  {
   "cell_type": "code",
   "execution_count": 20,
   "metadata": {},
   "outputs": [
    {
     "data": {
      "text/plain": [
       "0      Info\n",
       "1      From\n",
       "2    inputs\n",
       "3        []\n",
       "4       for\n",
       "5    status\n",
       "6    return\n",
       "7     final\n",
       "8       nil\n",
       "9       err\n",
       "Name: word, dtype: object"
      ]
     },
     "execution_count": 20,
     "metadata": {},
     "output_type": "execute_result"
    }
   ],
   "source": [
    "labels = df['word'].iloc[:10]\n",
    "labels"
   ]
  },
  {
   "cell_type": "code",
   "execution_count": 21,
   "metadata": {},
   "outputs": [],
   "source": [
    "result = []\n",
    "for text in sample:\n",
    "    result.append(predict_word(text))"
   ]
  },
  {
   "cell_type": "code",
   "execution_count": 22,
   "metadata": {},
   "outputs": [],
   "source": [
    "\n",
    "limit = 5\n",
    "sum_pred = []\n",
    "for label, pred_list in zip(labels,result):\n",
    "    preds = []\n",
    "    for idx, pred in enumerate(pred_list):\n",
    "        if idx > limit-1:\n",
    "            break\n",
    "        preds.append(pred['token_str'])\n",
    "    if label in preds:\n",
    "        sum_pred.append(1)\n",
    "    else:\n",
    "        sum_pred.append(0)"
   ]
  },
  {
   "cell_type": "code",
   "execution_count": 23,
   "metadata": {},
   "outputs": [
    {
     "data": {
      "text/plain": [
       "10"
      ]
     },
     "execution_count": 23,
     "metadata": {},
     "output_type": "execute_result"
    }
   ],
   "source": [
    "len(sum_pred)"
   ]
  },
  {
   "cell_type": "code",
   "execution_count": 24,
   "metadata": {},
   "outputs": [],
   "source": [
    "import numpy as np"
   ]
  },
  {
   "cell_type": "code",
   "execution_count": 25,
   "metadata": {},
   "outputs": [],
   "source": [
    "pred_np =  np.array(sum_pred)"
   ]
  },
  {
   "cell_type": "code",
   "execution_count": 26,
   "metadata": {},
   "outputs": [
    {
     "data": {
      "text/plain": [
       "3"
      ]
     },
     "execution_count": 26,
     "metadata": {},
     "output_type": "execute_result"
    }
   ],
   "source": [
    "pred_np.sum()"
   ]
  },
  {
   "cell_type": "code",
   "execution_count": 27,
   "metadata": {},
   "outputs": [
    {
     "data": {
      "text/plain": [
       "['err', 'conn', 'log', 'error', 'e']"
      ]
     },
     "execution_count": 27,
     "metadata": {},
     "output_type": "execute_result"
    }
   ],
   "source": [
    "preds"
   ]
  },
  {
   "cell_type": "code",
   "execution_count": null,
   "metadata": {},
   "outputs": [],
   "source": []
  }
 ],
 "metadata": {
  "kernelspec": {
   "display_name": "Python 3.10.4 ('hf')",
   "language": "python",
   "name": "python3"
  },
  "language_info": {
   "codemirror_mode": {
    "name": "ipython",
    "version": 3
   },
   "file_extension": ".py",
   "mimetype": "text/x-python",
   "name": "python",
   "nbconvert_exporter": "python",
   "pygments_lexer": "ipython3",
   "version": "3.10.4"
  },
  "orig_nbformat": 4,
  "vscode": {
   "interpreter": {
    "hash": "bcf2b60b1714614c1308ae5291285ba4e4d1e392c4f3764b03c0eb7a0f9e7a41"
   }
  }
 },
 "nbformat": 4,
 "nbformat_minor": 2
}
